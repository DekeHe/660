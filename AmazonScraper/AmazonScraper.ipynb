{
 "cells": [
  {
   "cell_type": "code",
   "execution_count": 1,
   "metadata": {},
   "outputs": [],
   "source": [
    "\"\"\"\n",
    "!pip3 install -U selenium\n",
    "!pip3 install webdriver-manager\n",
    "\"\"\"\n",
    "\n",
    "from selenium import webdriver\n",
    "from selenium.webdriver.support.ui import WebDriverWait\n",
    "from selenium.webdriver.support import expected_conditions as EC\n",
    "from selenium.webdriver.common.by import By\n",
    "import re, time,csv\n",
    "from selenium.common.exceptions import NoSuchElementException\n",
    "from selenium.webdriver.chrome.service import Service\n",
    "from webdriver_manager.chrome import ChromeDriverManager"
   ]
  },
  {
   "cell_type": "code",
   "execution_count": 2,
   "metadata": {},
   "outputs": [],
   "source": [
    "\n",
    "\n",
    "def getAmazonReviews(driver,url,outpath):\n",
    "\n",
    "    #open a new csv writer\n",
    "    fw=open(outpath,'w',encoding='utf8')\n",
    "    writer=csv.writer(fw,lineterminator='\\n')\n",
    "    writer.writerow(['title','date','content','rating'])\n",
    "    \n",
    "    driver.get(url) # visit the reviews url for the given product\n",
    "    \n",
    "    while True: # keep going until there are no more review pages\n",
    "                 \n",
    "        #scroll down\n",
    "        driver.execute_script('window,scrollTo(0,document.body.scrollHeight)')\n",
    "        \n",
    "        #get all the reviews in the page\n",
    "        reviews=driver.find_elements(by=By.CSS_SELECTOR, value='[data-hook=\"review\"]')\n",
    "        \n",
    "        for review in reviews: # for each review\n",
    "            \n",
    "            #initialize key attributes\n",
    "            rating,content,title,date,='NA','NA','NA','NA'\n",
    "            \n",
    "            try: # try to find the title box\n",
    "                titleBox=review.find_element(by=By.CSS_SELECTOR, value='[data-hook=\"review-title\"]')\n",
    "            except:\n",
    "                titleBox=None \n",
    "               \n",
    "            #box found, extract text\n",
    "            if titleBox: title=titleBox.text\n",
    "            \n",
    "            \n",
    "            try: # try to find the date box\n",
    "                dateBox=review.find_element(by=By.CSS_SELECTOR, value='[data-hook=\"review-date\"]')\n",
    "            except:\n",
    "                dateBox=None\n",
    "                \n",
    "            #box found, extract text\n",
    "            if dateBox: date=dateBox.text\n",
    "            \n",
    "            \n",
    "            try: # try to find the rating box\n",
    "                ratingBox=review.find_element(by=By.CSS_SELECTOR, value='[data-hook*=\"review-star-rating\"]')\n",
    "            except NoSuchElementException:\n",
    "                ratingBox=None\n",
    "                \n",
    "            #box found\n",
    "            if ratingBox:\n",
    "                ratingInfo=ratingBox.get_attribute('class') # get the text of class attribute\n",
    "            \n",
    "                rating=re.search('a-star-(\\d)',ratingInfo)  # look for the star rating from the class text\n",
    "            \n",
    "                rating=rating.group(1) # extract the star rating\n",
    "        \n",
    "        \n",
    "            try: # try to find the content box\n",
    "                contentBox=review.find_element(by=By.CSS_SELECTOR, value='[data-hook=\"review-body\"]')\n",
    "            except NoSuchElementException:\n",
    "                contentBox=None\n",
    "                \n",
    "            #box found, extract text\n",
    "            if contentBox:content=contentBox.text\n",
    "            \n",
    "            #write a new row\n",
    "            writer.writerow([title,date,content,rating])\n",
    "            \n",
    "        \n",
    "        #wait until the next Button loads\n",
    "        nextButton=WebDriverWait(driver,5).until(EC.presence_of_element_located((By.CLASS_NAME,'a-last')))\n",
    "        \n",
    "        if 'a-disabled' in nextButton.get_attribute('class'): # final page reached, 'next' button is disabled on this page\n",
    "            break\n",
    "            \n",
    "        #click on the next Button\n",
    "        nextButton.click()\n",
    "        \n",
    "        #wait for a few seconds\n",
    "        time.sleep(3)\n",
    "    \n",
    "\n",
    "    fw.close()\n",
    " \n",
    "   "
   ]
  },
  {
   "cell_type": "code",
   "execution_count": 3,
   "metadata": {},
   "outputs": [
    {
     "name": "stdout",
     "output_type": "stream",
     "text": [
      "\n"
     ]
    },
    {
     "name": "stderr",
     "output_type": "stream",
     "text": [
      "[WDM] - ====== WebDriver manager ======\n",
      "[WDM] - Current google-chrome version is 102.0.5005\n",
      "[WDM] - Get LATEST chromedriver version for 102.0.5005 google-chrome\n",
      "[WDM] - Driver [/home/ted/.wdm/drivers/chromedriver/linux64/102.0.5005.61/chromedriver] found in cache\n"
     ]
    }
   ],
   "source": [
    "driver = webdriver.Chrome(service=Service(ChromeDriverManager().install()))\n",
    "\n"
   ]
  },
  {
   "cell_type": "code",
   "execution_count": 4,
   "metadata": {},
   "outputs": [],
   "source": [
    "driver.maximize_window()"
   ]
  },
  {
   "cell_type": "code",
   "execution_count": 5,
   "metadata": {},
   "outputs": [],
   "source": [
    "url='https://www.amazon.com/Wireless-Headphones-Watching-Transmitter-Rechargeable/product-reviews/B099DD32XN/ref=cm_cr_dp_d_show_all_btm?ie=UTF8&reviewerType=all_reviews'\n",
    "\n",
    "outpath='amazon_reviews.csv'"
   ]
  },
  {
   "cell_type": "code",
   "execution_count": 6,
   "metadata": {},
   "outputs": [],
   "source": [
    "\n",
    "getAmazonReviews(driver,url,outpath)"
   ]
  },
  {
   "cell_type": "code",
   "execution_count": null,
   "metadata": {},
   "outputs": [],
   "source": []
  },
  {
   "cell_type": "code",
   "execution_count": null,
   "metadata": {},
   "outputs": [],
   "source": []
  }
 ],
 "metadata": {
  "kernelspec": {
   "display_name": "Python 3 (ipykernel)",
   "language": "python",
   "name": "python3"
  },
  "language_info": {
   "codemirror_mode": {
    "name": "ipython",
    "version": 3
   },
   "file_extension": ".py",
   "mimetype": "text/x-python",
   "name": "python",
   "nbconvert_exporter": "python",
   "pygments_lexer": "ipython3",
   "version": "3.9.7"
  }
 },
 "nbformat": 4,
 "nbformat_minor": 2
}
