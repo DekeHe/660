{
 "cells": [
  {
   "cell_type": "code",
   "execution_count": 1,
   "metadata": {},
   "outputs": [
    {
     "name": "stderr",
     "output_type": "stream",
     "text": [
      "/usr/lib/python3/dist-packages/requests/__init__.py:89: RequestsDependencyWarning: urllib3 (1.26.8) or chardet (3.0.4) doesn't match a supported version!\n",
      "  warnings.warn(\"urllib3 ({}) or chardet ({}) doesn't match a supported \"\n"
     ]
    }
   ],
   "source": [
    "\"\"\"\n",
    "A function that reads a file from the web and returns the frequency of each word in the ile\n",
    "\"\"\"\n",
    "\n",
    "import re\n",
    "import requests\n",
    "from operator import itemgetter\n",
    "\n",
    "def run(url): \n",
    "\n",
    "    freq={} # keep the freq of each word in the file \n",
    "\n",
    "    stopLex=set() #create an empty set of stopwords\n",
    "    fin=open('stopwords.txt') #open the stopwords file \n",
    "    for line in fin: # for each line \n",
    "        stopLex.add(line.strip()) #strip the line to remove white space at the beginning and end of the line\n",
    "    fin.close() # close the connection to the file\n",
    "    \n",
    "    \n",
    "    for i in range(5): # try 5 times\n",
    "        \n",
    "        #send a request to access the url\n",
    "        response=requests.get(url,headers = {'User-Agent':'Mozilla/5.0 (Windows NT 6.1) AppleWebKit/537.36 (KHTML, like Gecko) Chrome/41.0.2228.0 Safari/537.36', })    \n",
    "        if response: # explanation on response codes: https://realpython.com/python-requests/#status-codes\n",
    "            break # we got the file, break the loop\n",
    "        else: print ('failed attempt',i)\n",
    "     \n",
    "    # all five attempts failed, return  None\n",
    "    if not response: return None\n",
    "    \n",
    "    text=response.text# read in the text from the file\n",
    " \n",
    "    text=re.sub('[^a-z]',' ',text.lower()) # replace all non-letter characters  with a space\n",
    "    \n",
    "    words=text.split(' ') # split to get the words in the text \n",
    "\n",
    "    for word in words: # for each word in the sentence \n",
    "        if word=='' or word in stopLex:continue # ignore empty words and stopwords \n",
    "        else: \n",
    "            if word in freq: # we have seen this word before \n",
    "                freq[word]=freq[word]+1 # add 1\n",
    "            else: # first time we see the word\n",
    "                freq[word]=1 # initialize the freq to 1\n",
    "        \n",
    "    return freq\n",
    "        "
   ]
  },
  {
   "cell_type": "code",
   "execution_count": 2,
   "metadata": {},
   "outputs": [
    {
     "name": "stdout",
     "output_type": "stream",
     "text": [
      "failed attempt 0\n",
      "failed attempt 1\n",
      "failed attempt 2\n",
      "failed attempt 3\n",
      "failed attempt 4\n",
      "None\n"
     ]
    }
   ],
   "source": [
    "print(run('https://www.nongnu.org/ada-mode/NEWS-ada-mode.text'))"
   ]
  },
  {
   "cell_type": "code",
   "execution_count": 10,
   "metadata": {},
   "outputs": [],
   "source": [
    "#https://www.nongnu.org/ada-mode/NEWS-ada-mode.text"
   ]
  },
  {
   "cell_type": "code",
   "execution_count": null,
   "metadata": {},
   "outputs": [],
   "source": []
  }
 ],
 "metadata": {
  "kernelspec": {
   "display_name": "Python 3",
   "language": "python",
   "name": "python3"
  },
  "language_info": {
   "codemirror_mode": {
    "name": "ipython",
    "version": 3
   },
   "file_extension": ".py",
   "mimetype": "text/x-python",
   "name": "python",
   "nbconvert_exporter": "python",
   "pygments_lexer": "ipython3",
   "version": "3.8.10"
  }
 },
 "nbformat": 4,
 "nbformat_minor": 4
}
